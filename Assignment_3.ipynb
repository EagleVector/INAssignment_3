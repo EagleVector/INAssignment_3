{
 "cells": [
  {
   "cell_type": "markdown",
   "id": "db671fc4",
   "metadata": {},
   "source": [
    "\n",
    "Q1. Why are functions advantageous to have in your programs?\n",
    "\n",
    "Ans. Functions make a program compact. A single operation can be performed multiple times by calling a function.\n",
    "Functions also makes a program more readable and complex operations can be handled by the use of functions.\n"
   ]
  },
  {
   "cell_type": "markdown",
   "id": "116f033f",
   "metadata": {},
   "source": [
    "Q2. When does the code in a function run: when it's specified or when it's called?\n",
    "\n",
    "Ans.The code inside a function will run only when it is called."
   ]
  },
  {
   "cell_type": "markdown",
   "id": "2a03def2",
   "metadata": {},
   "source": [
    "Q3. What statement creates a function?\n",
    "\n",
    "Ans. 'def' is the keyword to start a function"
   ]
  },
  {
   "cell_type": "markdown",
   "id": "9788c3b8",
   "metadata": {},
   "source": [
    "Q4. What is the difference between a function and a function call?\n",
    "\n",
    "Ans.A function is a block code used to perform a specific task and return the result. A function call "
   ]
  },
  {
   "cell_type": "markdown",
   "id": "be35440a",
   "metadata": {},
   "source": [
    "Q5. How many global scopes are there in a Python program? How many local scopes?"
   ]
  },
  {
   "cell_type": "markdown",
   "id": "6fe8218b",
   "metadata": {},
   "source": [
    "Ans. There is one global scope in a python program. And inside a function there can be multiple local scopes defined."
   ]
  },
  {
   "cell_type": "markdown",
   "id": "77e8475d",
   "metadata": {},
   "source": [
    "Q6. What happens to variables in a local scope when the function call returns?\n",
    "\n",
    "Ans. The variables inside a local scope is executed everytime a function is called."
   ]
  },
  {
   "cell_type": "markdown",
   "id": "7cf5eda9",
   "metadata": {},
   "source": [
    "Q7. What is the concept of a return value? Is it possible to have a return value in an expression?\n",
    "\n",
    "Ans. Every function returns a value. If the return statement is not present inside a function, it returns None. It is possible to have an expression in a return statement but its not possible to define a return value outside a function or in an expression."
   ]
  },
  {
   "cell_type": "markdown",
   "id": "3ea0130e",
   "metadata": {},
   "source": [
    "Q8. If a function does not have a return statement, what is the return value of a call to that function?\n",
    "\n",
    "Ans. If a function does not have a return statement, it returns None."
   ]
  },
  {
   "cell_type": "markdown",
   "id": "6f77feb5",
   "metadata": {},
   "source": [
    "Q9. How do you make a function variable refer to the global variable?\n",
    "\n",
    "Ans. We can use the keyword global behind the variable inside a function to make it refer to the global variable."
   ]
  },
  {
   "cell_type": "markdown",
   "id": "92af5a95",
   "metadata": {},
   "source": [
    "Q10. What is the data type of None?\n",
    "\n",
    "Ans. NoneType"
   ]
  },
  {
   "cell_type": "markdown",
   "id": "9a667e13",
   "metadata": {},
   "source": [
    "Q11. What does the sentence import areallyourpetsnamederic do?\n",
    "\n",
    "Ans. It imports the module (if present)"
   ]
  },
  {
   "cell_type": "markdown",
   "id": "c02f6888",
   "metadata": {},
   "source": [
    "Q12. If you had a bacon() feature in a spam module, what would you call it after importing spam?"
   ]
  },
  {
   "cell_type": "markdown",
   "id": "45db3d25",
   "metadata": {},
   "source": [
    "Ans. After importing spam, we can write spam.bacon to use the bacon() feature.Specifically we can also import bacon from spam"
   ]
  },
  {
   "cell_type": "markdown",
   "id": "492aca2c",
   "metadata": {},
   "source": [
    "Q13. What can you do to save a programme from crashing if it encounters an error?\n",
    "\n",
    "Ans. We can put the code(which probably contain an error) into try: block and then try to fetch the possible error in the except: block."
   ]
  },
  {
   "cell_type": "markdown",
   "id": "446b8640",
   "metadata": {},
   "source": [
    "Q14. What is the purpose of the try clause? What is the purpose of the except clause?\n",
    "\n",
    "Ans. try: block contains the code which is supposed to contain an error. Except block contains the possible error which might have interrupted the program to execute."
   ]
  }
 ],
 "metadata": {
  "kernelspec": {
   "display_name": "Python 3 (ipykernel)",
   "language": "python",
   "name": "python3"
  },
  "language_info": {
   "codemirror_mode": {
    "name": "ipython",
    "version": 3
   },
   "file_extension": ".py",
   "mimetype": "text/x-python",
   "name": "python",
   "nbconvert_exporter": "python",
   "pygments_lexer": "ipython3",
   "version": "3.9.7"
  }
 },
 "nbformat": 4,
 "nbformat_minor": 5
}
